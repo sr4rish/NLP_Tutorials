{
  "nbformat": 4,
  "nbformat_minor": 0,
  "metadata": {
    "colab": {
      "name": "Word Embedding Tutorial.ipynb",
      "provenance": [],
      "collapsed_sections": [],
      "authorship_tag": "ABX9TyPaXlrGkS62mdUHdKzNpEhC",
      "include_colab_link": true
    },
    "kernelspec": {
      "name": "python3",
      "display_name": "Python 3"
    }
  },
  "cells": [
    {
      "cell_type": "markdown",
      "metadata": {
        "id": "view-in-github",
        "colab_type": "text"
      },
      "source": [
        "<a href=\"https://colab.research.google.com/github/sr4rish/NLP_Tutorials/blob/master/Word_Embedding_Tutorial.ipynb\" target=\"_parent\"><img src=\"https://colab.research.google.com/assets/colab-badge.svg\" alt=\"Open In Colab\"/></a>"
      ]
    },
    {
      "cell_type": "code",
      "metadata": {
        "id": "w48sWjDVhnDZ",
        "colab_type": "code",
        "colab": {}
      },
      "source": [
        "%tensorflow_version 2.x\n",
        "import keras\n",
        "import tensorflow as tf\n",
        "import os\n",
        "import numpy as np\n",
        "import matplotlib.pyplot as plt\n",
        "import pandas as pd\n",
        "from tensorflow.keras.preprocessing.text import one_hot"
      ],
      "execution_count": 3,
      "outputs": []
    },
    {
      "cell_type": "code",
      "metadata": {
        "id": "ne2LM8bBlw8q",
        "colab_type": "code",
        "colab": {}
      },
      "source": [
        "### sentences\n",
        "sent=[  'the glass of milk',\n",
        "     'the glass of juice',\n",
        "     'the cup of tea',\n",
        "    'I am a good boy',\n",
        "     'I am a good developer',\n",
        "     'understand the meaning of words',\n",
        "     'your videos are good',]"
      ],
      "execution_count": 4,
      "outputs": []
    },
    {
      "cell_type": "code",
      "metadata": {
        "id": "zT0GX42wlwwR",
        "colab_type": "code",
        "colab": {
          "base_uri": "https://localhost:8080/",
          "height": 141
        },
        "outputId": "7742b6e5-6cfb-467e-ab8a-71ce56388d5e"
      },
      "source": [
        "sent"
      ],
      "execution_count": 5,
      "outputs": [
        {
          "output_type": "execute_result",
          "data": {
            "text/plain": [
              "['the glass of milk',\n",
              " 'the glass of juice',\n",
              " 'the cup of tea',\n",
              " 'I am a good boy',\n",
              " 'I am a good developer',\n",
              " 'understand the meaning of words',\n",
              " 'your videos are good']"
            ]
          },
          "metadata": {
            "tags": []
          },
          "execution_count": 5
        }
      ]
    },
    {
      "cell_type": "code",
      "metadata": {
        "id": "yekb0pIclwg8",
        "colab_type": "code",
        "colab": {}
      },
      "source": [
        "### Vocabulary size\n",
        "VOCAB_SIZE=10000"
      ],
      "execution_count": 12,
      "outputs": []
    },
    {
      "cell_type": "code",
      "metadata": {
        "id": "zzPa3BRA57DA",
        "colab_type": "code",
        "colab": {
          "base_uri": "https://localhost:8080/",
          "height": 141
        },
        "outputId": "d097279a-97c6-43f9-eef8-54a3dfc3d3f3"
      },
      "source": [
        "#One Hot Representation\n",
        "oneHot = [one_hot(word, VOCAB_SIZE) for word in sent]\n",
        "oneHot"
      ],
      "execution_count": 7,
      "outputs": [
        {
          "output_type": "execute_result",
          "data": {
            "text/plain": [
              "[[4453, 6839, 9114, 8962],\n",
              " [4453, 6839, 9114, 972],\n",
              " [4453, 6309, 9114, 451],\n",
              " [7773, 290, 7036, 8969, 8275],\n",
              " [7773, 290, 7036, 8969, 9551],\n",
              " [1528, 4453, 7397, 9114, 9561],\n",
              " [925, 7266, 4787, 8969]]"
            ]
          },
          "metadata": {
            "tags": []
          },
          "execution_count": 7
        }
      ]
    },
    {
      "cell_type": "code",
      "metadata": {
        "id": "h9xIeLQI6Q-q",
        "colab_type": "code",
        "colab": {}
      },
      "source": [
        "#Word Embedding Representation\n",
        "from tensorflow.keras.layers import Embedding\n",
        "from tensorflow.keras.preprocessing.sequence import pad_sequences\n",
        "from tensorflow.keras.models import Sequential"
      ],
      "execution_count": 8,
      "outputs": []
    },
    {
      "cell_type": "code",
      "metadata": {
        "id": "PGy56R-26cb3",
        "colab_type": "code",
        "colab": {
          "base_uri": "https://localhost:8080/",
          "height": 158
        },
        "outputId": "ec6f9c79-b6d8-4802-b159-bf6cb319b471"
      },
      "source": [
        "MAX_LENGTH = 10\n",
        "embedded_docs = pad_sequences(oneHot, maxlen = MAX_LENGTH, padding='pre')\n",
        "embedded_docs"
      ],
      "execution_count": 9,
      "outputs": [
        {
          "output_type": "execute_result",
          "data": {
            "text/plain": [
              "array([[   0,    0,    0,    0,    0,    0, 4453, 6839, 9114, 8962],\n",
              "       [   0,    0,    0,    0,    0,    0, 4453, 6839, 9114,  972],\n",
              "       [   0,    0,    0,    0,    0,    0, 4453, 6309, 9114,  451],\n",
              "       [   0,    0,    0,    0,    0, 7773,  290, 7036, 8969, 8275],\n",
              "       [   0,    0,    0,    0,    0, 7773,  290, 7036, 8969, 9551],\n",
              "       [   0,    0,    0,    0,    0, 1528, 4453, 7397, 9114, 9561],\n",
              "       [   0,    0,    0,    0,    0,    0,  925, 7266, 4787, 8969]],\n",
              "      dtype=int32)"
            ]
          },
          "metadata": {
            "tags": []
          },
          "execution_count": 9
        }
      ]
    },
    {
      "cell_type": "code",
      "metadata": {
        "id": "mlYRIkp17AlU",
        "colab_type": "code",
        "colab": {}
      },
      "source": [
        "DIMENSIONS = 10"
      ],
      "execution_count": 10,
      "outputs": []
    },
    {
      "cell_type": "code",
      "metadata": {
        "id": "Oa1-JyVh7HH2",
        "colab_type": "code",
        "colab": {}
      },
      "source": [
        "model=Sequential()\n",
        "model.add(Embedding(VOCAB_SIZE,10,input_length=MAX_LENGTH))\n",
        "model.compile('adam','mse')"
      ],
      "execution_count": 13,
      "outputs": []
    },
    {
      "cell_type": "code",
      "metadata": {
        "id": "nzedN6iR7xOO",
        "colab_type": "code",
        "colab": {
          "base_uri": "https://localhost:8080/",
          "height": 194
        },
        "outputId": "3d324f6f-ce2e-4658-fcea-7aa87eedb84f"
      },
      "source": [
        "model.summary()"
      ],
      "execution_count": 15,
      "outputs": [
        {
          "output_type": "stream",
          "text": [
            "Model: \"sequential_1\"\n",
            "_________________________________________________________________\n",
            "Layer (type)                 Output Shape              Param #   \n",
            "=================================================================\n",
            "embedding (Embedding)        (None, 10, 10)            100000    \n",
            "=================================================================\n",
            "Total params: 100,000\n",
            "Trainable params: 100,000\n",
            "Non-trainable params: 0\n",
            "_________________________________________________________________\n"
          ],
          "name": "stdout"
        }
      ]
    },
    {
      "cell_type": "code",
      "metadata": {
        "id": "QYHJQAUt741M",
        "colab_type": "code",
        "colab": {
          "base_uri": "https://localhost:8080/",
          "height": 52
        },
        "outputId": "35aeee96-12ab-4508-de42-1b8208a74b40"
      },
      "source": [
        "embedded_docs[0]"
      ],
      "execution_count": 16,
      "outputs": [
        {
          "output_type": "execute_result",
          "data": {
            "text/plain": [
              "array([   0,    0,    0,    0,    0,    0, 4453, 6839, 9114, 8962],\n",
              "      dtype=int32)"
            ]
          },
          "metadata": {
            "tags": []
          },
          "execution_count": 16
        }
      ]
    },
    {
      "cell_type": "code",
      "metadata": {
        "id": "ShV-yMHe7-9t",
        "colab_type": "code",
        "colab": {
          "base_uri": "https://localhost:8080/",
          "height": 532
        },
        "outputId": "9a156a1d-6698-414e-b94f-1e64af9ca200"
      },
      "source": [
        "print(model.predict(embedded_docs[0]))"
      ],
      "execution_count": 18,
      "outputs": [
        {
          "output_type": "stream",
          "text": [
            "[[[ 0.01726897 -0.0463133  -0.02521302  0.00669205  0.00380524\n",
            "   -0.02608465  0.02317474  0.01904004 -0.02039973 -0.01869043]]\n",
            "\n",
            " [[ 0.01726897 -0.0463133  -0.02521302  0.00669205  0.00380524\n",
            "   -0.02608465  0.02317474  0.01904004 -0.02039973 -0.01869043]]\n",
            "\n",
            " [[ 0.01726897 -0.0463133  -0.02521302  0.00669205  0.00380524\n",
            "   -0.02608465  0.02317474  0.01904004 -0.02039973 -0.01869043]]\n",
            "\n",
            " [[ 0.01726897 -0.0463133  -0.02521302  0.00669205  0.00380524\n",
            "   -0.02608465  0.02317474  0.01904004 -0.02039973 -0.01869043]]\n",
            "\n",
            " [[ 0.01726897 -0.0463133  -0.02521302  0.00669205  0.00380524\n",
            "   -0.02608465  0.02317474  0.01904004 -0.02039973 -0.01869043]]\n",
            "\n",
            " [[ 0.01726897 -0.0463133  -0.02521302  0.00669205  0.00380524\n",
            "   -0.02608465  0.02317474  0.01904004 -0.02039973 -0.01869043]]\n",
            "\n",
            " [[-0.04771366  0.00909547  0.04581093  0.01339434 -0.01407864\n",
            "   -0.01844062  0.03186143  0.00119457  0.00310605 -0.03302096]]\n",
            "\n",
            " [[ 0.01797023 -0.00469692  0.02415534  0.02789563  0.02487895\n",
            "   -0.01298008 -0.02096021 -0.03121868 -0.02582674 -0.01580919]]\n",
            "\n",
            " [[-0.01294846 -0.04424126  0.02403312 -0.01136593  0.01277689\n",
            "   -0.04504819 -0.03848894 -0.00315608  0.04084561 -0.02805878]]\n",
            "\n",
            " [[-0.04344749 -0.0214743   0.00316451  0.03639619 -0.01812915\n",
            "    0.04267771  0.02586261  0.02661541 -0.02111784 -0.01876285]]]\n"
          ],
          "name": "stdout"
        }
      ]
    }
  ]
}