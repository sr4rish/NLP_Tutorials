{
  "nbformat": 4,
  "nbformat_minor": 0,
  "metadata": {
    "colab": {
      "name": "NLP _Intro",
      "provenance": [],
      "authorship_tag": "ABX9TyN3o/1ZvkPYTKTzi4/IcDmV",
      "include_colab_link": true
    },
    "kernelspec": {
      "name": "python3",
      "display_name": "Python 3"
    }
  },
  "cells": [
    {
      "cell_type": "markdown",
      "metadata": {
        "id": "view-in-github",
        "colab_type": "text"
      },
      "source": [
        "<a href=\"https://colab.research.google.com/github/sr4rish/NLP_Tutorials/blob/master/NLP__Intro.ipynb\" target=\"_parent\"><img src=\"https://colab.research.google.com/assets/colab-badge.svg\" alt=\"Open In Colab\"/></a>"
      ]
    },
    {
      "cell_type": "code",
      "metadata": {
        "id": "VCr7ocFVE94K",
        "colab_type": "code",
        "colab": {
          "base_uri": "https://localhost:8080/",
          "height": 68
        },
        "outputId": "3e9c58bf-41a3-4c62-edb2-d30471978b76"
      },
      "source": [
        "import nltk\n",
        "nltk.download('stopwords')"
      ],
      "execution_count": null,
      "outputs": [
        {
          "output_type": "stream",
          "text": [
            "[nltk_data] Downloading package stopwords to /root/nltk_data...\n",
            "[nltk_data]   Package stopwords is already up-to-date!\n"
          ],
          "name": "stdout"
        },
        {
          "output_type": "execute_result",
          "data": {
            "text/plain": [
              "True"
            ]
          },
          "metadata": {
            "tags": []
          },
          "execution_count": 14
        }
      ]
    },
    {
      "cell_type": "code",
      "metadata": {
        "id": "CQKPl8-4GnqP",
        "colab_type": "code",
        "colab": {
          "base_uri": "https://localhost:8080/",
          "height": 34
        },
        "outputId": "a058a358-31a0-449d-d147-3bb562edaec0"
      },
      "source": [
        "# Sample code to remove noisy words from a text\n",
        "\n",
        "noise_list = [\"is\", \"a\", \"this\", \"...\"] \n",
        "def _remove_noise(input_text):\n",
        "    words = input_text.split() \n",
        "    noise_free_words = [word for word in words if word not in noise_list] \n",
        "    noise_free_text = \" \".join(noise_free_words) \n",
        "    return noise_free_text\n",
        "\n",
        "_remove_noise(\"this is a sample text\")"
      ],
      "execution_count": null,
      "outputs": [
        {
          "output_type": "execute_result",
          "data": {
            "text/plain": [
              "'sample text'"
            ]
          },
          "metadata": {
            "tags": []
          },
          "execution_count": 5
        }
      ]
    },
    {
      "cell_type": "code",
      "metadata": {
        "id": "1jub1NPGHEng",
        "colab_type": "code",
        "colab": {
          "base_uri": "https://localhost:8080/",
          "height": 34
        },
        "outputId": "988cdd6a-7343-46f7-aa9e-5f40b76417be"
      },
      "source": [
        "# Sample code to remove a regex pattern \n",
        "import re \n",
        "\n",
        "def _remove_regex(input_text, regex_pattern):\n",
        "    urls = re.finditer(regex_pattern, input_text) \n",
        "    for i in urls: \n",
        "        input_text = re.sub(i.group().strip(), '', input_text)\n",
        "    return input_text\n",
        "\n",
        "regex_pattern = \"#[\\w]*\" \n",
        "#[#]\\w+ \n",
        "\n",
        "_remove_regex(\"remove this #hashtag from this text\", regex_pattern)"
      ],
      "execution_count": null,
      "outputs": [
        {
          "output_type": "execute_result",
          "data": {
            "text/plain": [
              "'remove this  from this text'"
            ]
          },
          "metadata": {
            "tags": []
          },
          "execution_count": 11
        }
      ]
    },
    {
      "cell_type": "markdown",
      "metadata": {
        "id": "xFlWjyZ6Izum",
        "colab_type": "text"
      },
      "source": [
        "2.2 Lexicon Normalization\n",
        "Another type of textual noise is about the multiple representations exhibited by single word.\n",
        "\n",
        "For example – “play”, “player”, “played”, “plays” and “playing” are the different variations of the word – “play”, Though they mean different but contextually all are similar. The step converts all the disparities of a word into their normalized form (also known as lemma). Normalization is a pivotal step for feature engineering with text as it converts the high dimensional features (N different features) to the low dimensional space (1 feature), which is an ideal ask for any ML model.\n",
        "\n",
        "The most common lexicon normalization practices are :\n",
        "\n",
        "Stemming:  Stemming is a rudimentary rule-based process of stripping the suffixes (“ing”, “ly”, “es”, “s” etc) from a word.\n",
        "Lemmatization: Lemmatization, on the other hand, is an organized & step by step procedure of obtaining the root form of the word, it makes use of vocabulary (dictionary importance of words) and morphological analysis (word structure and grammar relations).\n",
        "Below is the sample code that performs lemmatization and stemming using python’s popular library – NLTK."
      ]
    },
    {
      "cell_type": "code",
      "metadata": {
        "id": "pQRrahmgKkAD",
        "colab_type": "code",
        "colab": {
          "base_uri": "https://localhost:8080/",
          "height": 68
        },
        "outputId": "2b5f71bb-0a5a-40a4-ba2b-a759270cdea3"
      },
      "source": [
        "nltk.download('wordnet')"
      ],
      "execution_count": null,
      "outputs": [
        {
          "output_type": "stream",
          "text": [
            "[nltk_data] Downloading package wordnet to /root/nltk_data...\n",
            "[nltk_data]   Package wordnet is already up-to-date!\n"
          ],
          "name": "stdout"
        },
        {
          "output_type": "execute_result",
          "data": {
            "text/plain": [
              "True"
            ]
          },
          "metadata": {
            "tags": []
          },
          "execution_count": 16
        }
      ]
    },
    {
      "cell_type": "code",
      "metadata": {
        "id": "lrTikpvoI9nG",
        "colab_type": "code",
        "colab": {
          "base_uri": "https://localhost:8080/",
          "height": 51
        },
        "outputId": "34718fc5-a580-418b-ae92-ea20cb80f474"
      },
      "source": [
        "from nltk.stem.wordnet import WordNetLemmatizer \n",
        "lem = WordNetLemmatizer()\n",
        "\n",
        "from nltk.stem.porter import PorterStemmer \n",
        "stem = PorterStemmer()\n",
        "\n",
        "word = \"multiplying\" \n",
        "print(lem.lemmatize(word, \"v\"))\n",
        "\n",
        "stem.stem(word)"
      ],
      "execution_count": null,
      "outputs": [
        {
          "output_type": "stream",
          "text": [
            "multiply\n"
          ],
          "name": "stdout"
        },
        {
          "output_type": "execute_result",
          "data": {
            "text/plain": [
              "'multipli'"
            ]
          },
          "metadata": {
            "tags": []
          },
          "execution_count": 18
        }
      ]
    },
    {
      "cell_type": "markdown",
      "metadata": {
        "id": "bVhIVVMzN-fs",
        "colab_type": "text"
      },
      "source": [
        "Object Standardization\n",
        "Text data often contains words or phrases which are not present in any standard lexical dictionaries. These pieces are not recognized by search engines and models.\n",
        "\n",
        "Some of the examples are – acronyms, hashtags with attached words, and colloquial slangs. With the help of regular expressions and manually prepared data dictionaries, this type of noise can be fixed, the code below uses a dictionary lookup method to replace social media slangs from a text."
      ]
    },
    {
      "cell_type": "code",
      "metadata": {
        "id": "ddZN6GGeOCmU",
        "colab_type": "code",
        "colab": {
          "base_uri": "https://localhost:8080/",
          "height": 34
        },
        "outputId": "aae1ee63-e474-433a-a6b1-944ac44265a2"
      },
      "source": [
        "lookup_dict = {'rt':'Retweet', 'dm':'direct message', \"awsm\" : \"awesome\", \"luv\" :\"love\"}\n",
        "def _lookup_words(input_text):\n",
        "    words = input_text.split() \n",
        "    new_words = [] \n",
        "    for word in words:\n",
        "        if word.lower() in lookup_dict:\n",
        "            word = lookup_dict[word.lower()]\n",
        "        new_words.append(word) \n",
        "        new_text = \" \".join(new_words) \n",
        "    return new_text\n",
        "\n",
        "_lookup_words(\"RT this is a retweeted tweet by Sourav Rishishwar\")"
      ],
      "execution_count": null,
      "outputs": [
        {
          "output_type": "execute_result",
          "data": {
            "text/plain": [
              "'Retweet this is a retweeted tweet by Sourav Rishishwar'"
            ]
          },
          "metadata": {
            "tags": []
          },
          "execution_count": 23
        }
      ]
    },
    {
      "cell_type": "code",
      "metadata": {
        "id": "cyycCgRpRJQb",
        "colab_type": "code",
        "colab": {}
      },
      "source": [
        "from nltk.corpus import stopwords\n",
        "from nltk.stem.porter import PorterStemmer\n",
        "ps = PorterStemmer()\n",
        "\n",
        "corpus = []\n",
        "for i in range(len(dataset.Review)):\n",
        "    review = re.sub('[^a-zA-Z]', ' ', dataset.Review[i])\n",
        "    review = review.split()\n",
        "    review = [ps.stem(words) for words in review if not words in set(stopwords.words('english'))]\n",
        "    review = ' '.join(review)\n",
        "    corpus.append(review)"
      ],
      "execution_count": null,
      "outputs": []
    },
    {
      "cell_type": "markdown",
      "metadata": {
        "id": "Nd4zV_phTdoR",
        "colab_type": "text"
      },
      "source": [
        "B. **Topic Modeling**\n",
        "Topic modeling is a process of automatically identifying the topics present in a text corpus, it derives the hidden patterns among the words in the corpus in an unsupervised manner. Topics are defined as “a repeating pattern of co-occurring terms in a corpus”. A good topic model results in – “health”, “doctor”, “patient”, “hospital” for a topic – Healthcare, and “farm”, “crops”, “wheat” for a topic – “Farming”.\n",
        "\n",
        "Latent Dirichlet Allocation (LDA) is the most popular topic modelling technique, Following is the code to implement topic modeling using LDA in python. For a detailed explanation about its working and implementation, check the complete article here."
      ]
    },
    {
      "cell_type": "code",
      "metadata": {
        "id": "mWcu14EUSkjn",
        "colab_type": "code",
        "colab": {
          "base_uri": "https://localhost:8080/",
          "height": 272
        },
        "outputId": "030f4347-cfc1-4ec6-8848-1533d2c0fa3d"
      },
      "source": [
        "doc1 = \"Sugar is bad to consume. My sister likes to have sugar, but not my father.\" \n",
        "doc2 = \"My father spends a lot of time driving my sister around to dance practice.\"\n",
        "doc3 = \"Doctors suggest that driving may cause increased stress and blood pressure.\"\n",
        "doc_complete = [doc1, doc2, doc3]\n",
        "doc_clean = [doc.split() for doc in doc_complete]\n",
        "doc_clean[0]"
      ],
      "execution_count": null,
      "outputs": [
        {
          "output_type": "execute_result",
          "data": {
            "text/plain": [
              "['Sugar',\n",
              " 'is',\n",
              " 'bad',\n",
              " 'to',\n",
              " 'consume.',\n",
              " 'My',\n",
              " 'sister',\n",
              " 'likes',\n",
              " 'to',\n",
              " 'have',\n",
              " 'sugar,',\n",
              " 'but',\n",
              " 'not',\n",
              " 'my',\n",
              " 'father.']"
            ]
          },
          "metadata": {
            "tags": []
          },
          "execution_count": 26
        }
      ]
    },
    {
      "cell_type": "code",
      "metadata": {
        "id": "65-hGSQTTKdJ",
        "colab_type": "code",
        "colab": {
          "base_uri": "https://localhost:8080/",
          "height": 54
        },
        "outputId": "7a3949ce-50be-4c5a-8e89-8bb358aa4030"
      },
      "source": [
        "import gensim\n",
        "from gensim import corpora\n",
        "\n",
        "# Creating the term dictionary of our corpus, where every unique term is assigned an index.  \n",
        "dictionary = corpora.Dictionary(doc_clean)\n",
        "\n",
        "# Converting list of documents (corpus) into Document Term Matrix using dictionary prepared above. \n",
        "doc_term_matrix = [dictionary.doc2bow(doc) for doc in doc_clean]\n",
        "\n",
        "# Creating the object for LDA model using gensim library\n",
        "Lda = gensim.models.ldamodel.LdaModel\n",
        "\n",
        "# Running and Training LDA model on the document term matrix\n",
        "ldamodel = Lda(doc_term_matrix, num_topics=3, id2word = dictionary, passes=50)\n",
        "\n",
        "# Results \n",
        "print(ldamodel.print_topics())"
      ],
      "execution_count": null,
      "outputs": [
        {
          "output_type": "stream",
          "text": [
            "[(0, '0.089*\"to\" + 0.051*\"sister\" + 0.051*\"My\" + 0.051*\"my\" + 0.051*\"is\" + 0.051*\"sugar,\" + 0.051*\"not\" + 0.051*\"Sugar\" + 0.051*\"bad\" + 0.051*\"consume.\"'), (1, '0.064*\"driving\" + 0.037*\"a\" + 0.037*\"dance\" + 0.037*\"time\" + 0.037*\"spends\" + 0.037*\"practice.\" + 0.037*\"of\" + 0.037*\"lot\" + 0.037*\"father\" + 0.037*\"around\"'), (2, '0.029*\"sister\" + 0.029*\"My\" + 0.029*\"my\" + 0.029*\"to\" + 0.029*\"Doctors\" + 0.029*\"may\" + 0.029*\"pressure.\" + 0.029*\"stress\" + 0.029*\"increased\" + 0.029*\"suggest\"')]\n"
          ],
          "name": "stdout"
        }
      ]
    },
    {
      "cell_type": "markdown",
      "metadata": {
        "id": "onUVhbeYU7Qa",
        "colab_type": "text"
      },
      "source": [
        "**N-Grams as Features**\n",
        "A combination of N words together are called N-Grams. N grams (N > 1) are generally more informative as compared to words (Unigrams) as features. Also, bigrams (N = 2) are considered as the most important features of all the others. The following code generates bigram of a text."
      ]
    },
    {
      "cell_type": "code",
      "metadata": {
        "id": "8Bg9qd9AU_mc",
        "colab_type": "code",
        "colab": {
          "base_uri": "https://localhost:8080/",
          "height": 34
        },
        "outputId": "8eddfc97-0e40-4b07-f81d-aa308d9602b0"
      },
      "source": [
        "def generate_ngrams(text, n):\n",
        "    words = text.split()\n",
        "    output = []  \n",
        "    for i in range(len(words)-n+1):\n",
        "        output.append(words[i:i+n])\n",
        "    return output\n",
        "\n",
        "generate_ngrams('this is a sample text', 2)"
      ],
      "execution_count": null,
      "outputs": [
        {
          "output_type": "execute_result",
          "data": {
            "text/plain": [
              "[['this', 'is'], ['is', 'a'], ['a', 'sample'], ['sample', 'text']]"
            ]
          },
          "metadata": {
            "tags": []
          },
          "execution_count": 30
        }
      ]
    },
    {
      "cell_type": "markdown",
      "metadata": {
        "id": "zY08djVhWxmX",
        "colab_type": "text"
      },
      "source": [
        "**Statistical Features**\n",
        "\n",
        "Text data can also be quantified directly into numbers using several techniques described in this section:\n",
        "\n",
        "A.  Term Frequency – Inverse Document Frequency (TF – IDF)\n",
        "TF-IDF is a weighted model commonly used for information retrieval problems. It aims to convert the text documents into vector models on the basis of occurrence of words in the documents without taking considering the exact ordering. For Example – let say there is a dataset of N text documents, In any document “D”, TF and IDF will be defined as –\n",
        "\n",
        "Term Frequency (TF) – TF for a term “t” is defined as the count of a term “t” in a document “D”\n",
        "\n",
        "Inverse Document Frequency (IDF) – IDF for a term is defined as logarithm of ratio of total documents available in the corpus and number of documents containing the term T.\n",
        "\n",
        "TF . IDF – TF IDF formula gives the relative importance of a term in a corpus (list of documents), given by the following formula below. Following is the code using python’s scikit learn package to convert a text into tf idf vectors:\n",
        "\n",
        "\n",
        "![image.png](data:image/png;base64,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)\n",
        "\n",
        "The model creates a vocabulary dictionary and assigns an index to each word. Each row in the output contains a tuple (i,j) and a tf-idf value of word at index j in document i."
      ]
    },
    {
      "cell_type": "code",
      "metadata": {
        "id": "8ceZep-BW-Kt",
        "colab_type": "code",
        "colab": {
          "base_uri": "https://localhost:8080/",
          "height": 204
        },
        "outputId": "c71cbdb3-07e0-426d-a958-1667af037e98"
      },
      "source": [
        "from sklearn.feature_extraction.text import TfidfVectorizer\n",
        "obj = TfidfVectorizer()\n",
        "corpus = ['This is sample document.', 'another random document.', 'third sample document text']\n",
        "X = obj.fit_transform(corpus)\n",
        "print(X)"
      ],
      "execution_count": null,
      "outputs": [
        {
          "output_type": "stream",
          "text": [
            "  (0, 1)\t0.34520501686496574\n",
            "  (0, 4)\t0.444514311537431\n",
            "  (0, 2)\t0.5844829010200651\n",
            "  (0, 7)\t0.5844829010200651\n",
            "  (1, 3)\t0.652490884512534\n",
            "  (1, 0)\t0.652490884512534\n",
            "  (1, 1)\t0.3853716274664007\n",
            "  (2, 5)\t0.5844829010200651\n",
            "  (2, 6)\t0.5844829010200651\n",
            "  (2, 1)\t0.34520501686496574\n",
            "  (2, 4)\t0.444514311537431\n"
          ],
          "name": "stdout"
        }
      ]
    },
    {
      "cell_type": "markdown",
      "metadata": {
        "id": "KNHkTZv4CYSr",
        "colab_type": "text"
      },
      "source": [
        "# **WORD2VEC**"
      ]
    },
    {
      "cell_type": "code",
      "metadata": {
        "id": "tyz4UXB4CjVR",
        "colab_type": "code",
        "colab": {}
      },
      "source": [
        "import gensim\n",
        "\n",
        "sentence=[['Neeraj','Boy'],['Sarwan','is'],['good','man'],['woman', 'girl']]\n",
        "\n",
        "#training word2vec on 3 sentences\n",
        "model = gensim.models.Word2Vec(sentence, min_count=1,size=300,workers=4)"
      ],
      "execution_count": null,
      "outputs": []
    },
    {
      "cell_type": "code",
      "metadata": {
        "id": "u6GYMiLyGhLp",
        "colab_type": "code",
        "colab": {
          "base_uri": "https://localhost:8080/",
          "height": 122
        },
        "outputId": "9e05ade8-028a-4d97-d5b5-5d9e2f719af9"
      },
      "source": [
        "#using the model\n",
        "#The new trained model can be used similar to the pre-trained ones.\n",
        "\n",
        "#printing similarity index\n",
        "print(model.similarity('woman', 'man'))"
      ],
      "execution_count": null,
      "outputs": [
        {
          "output_type": "stream",
          "text": [
            "0.030551596\n"
          ],
          "name": "stdout"
        },
        {
          "output_type": "stream",
          "text": [
            "/usr/local/lib/python3.6/dist-packages/ipykernel_launcher.py:5: DeprecationWarning: Call to deprecated `similarity` (Method will be removed in 4.0.0, use self.wv.similarity() instead).\n",
            "  \"\"\"\n",
            "/usr/local/lib/python3.6/dist-packages/gensim/matutils.py:737: FutureWarning: Conversion of the second argument of issubdtype from `int` to `np.signedinteger` is deprecated. In future, it will be treated as `np.int64 == np.dtype(int).type`.\n",
            "  if np.issubdtype(vec.dtype, np.int):\n"
          ],
          "name": "stderr"
        }
      ]
    }
  ]
}